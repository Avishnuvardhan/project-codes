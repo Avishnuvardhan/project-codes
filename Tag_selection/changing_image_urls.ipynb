{
 "cells": [
  {
   "cell_type": "code",
   "execution_count": 1,
   "id": "6785dcbb-8351-448b-933a-156e913f9e67",
   "metadata": {},
   "outputs": [],
   "source": [
    "#Import Packages\n",
    "import os\n",
    "import pandas as pd"
   ]
  },
  {
   "cell_type": "code",
   "execution_count": 7,
   "id": "d2b1e6ae-d8f1-45ee-9958-f2bf8077fa9e",
   "metadata": {},
   "outputs": [],
   "source": [
    "#Changeing Image URls\n",
    "\n",
    "def image_url(file_name,images_path):\n",
    "\n",
    "    new = []\n",
    "    \n",
    "    #Reading Excelfile\n",
    "    #df =pd.read_excel(file_name)\n",
    "    \n",
    "    #Reading csvfile\n",
    "    df = pd.read_csv(file_name)\n",
    "    \n",
    "    for urls in df[\"Image_Url\"]:\n",
    "        image_name = urls.split(\"\\\\\")[-1]\n",
    "        new.append(os.path.join(images_path,image_name))\n",
    "        \n",
    "    #replacing values in the image_url into new Urls\n",
    "    df[\"Image_Url\"]=new\n",
    "    \n",
    "    return df\n",
    "\n",
    "\n",
    "if __name__ == \"__main__\":\n",
    "    ## Createing new csv sheet\n",
    "    new_csv = image_url(\"Desktop\\me\\excel.csv\",r\"C:\\Users\\user\\Desktop\\me\")\n",
    "    new_csv.to_csv(r\"C:\\Users\\user\\Desktop\\me\\new_excel.csv\")"
   ]
  },
  {
   "cell_type": "code",
   "execution_count": 9,
   "id": "7fc7e9cb-b7dd-43da-a6a8-1ba5b685b7ed",
   "metadata": {},
   "outputs": [],
   "source": [
    "# ## Createing new csv sheet\n",
    "# new_csv = image_url(\"Desktop\\me\\excel.csv\",r\"C:\\Users\\user\\Desktop\\me\")\n",
    "# new_csv.to_csv(r\"C:\\Users\\user\\Desktop\\me\\new_excel.csv\")"
   ]
  }
 ],
 "metadata": {
  "kernelspec": {
   "display_name": "Python 3",
   "language": "python",
   "name": "python3"
  },
  "language_info": {
   "codemirror_mode": {
    "name": "ipython",
    "version": 3
   },
   "file_extension": ".py",
   "mimetype": "text/x-python",
   "name": "python",
   "nbconvert_exporter": "python",
   "pygments_lexer": "ipython3",
   "version": "3.8.8"
  }
 },
 "nbformat": 4,
 "nbformat_minor": 5
}
